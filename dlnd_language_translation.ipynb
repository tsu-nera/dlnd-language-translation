{
 "cells": [
  {
   "cell_type": "markdown",
   "metadata": {
    "collapsed": true
   },
   "source": [
    "# Language Translation\n",
    "In this project, you’re going to take a peek into the realm of neural network machine translation.  You’ll be training a sequence to sequence model on a dataset of English and French sentences that can translate new sentences from English to French.\n",
    "## Get the Data\n",
    "Since translating the whole language of English to French will take lots of time to train, we have provided you with a small portion of the English corpus."
   ]
  },
  {
   "cell_type": "code",
   "execution_count": 1,
   "metadata": {
    "collapsed": true
   },
   "outputs": [],
   "source": [
    "\"\"\"\n",
    "DON'T MODIFY ANYTHING IN THIS CELL\n",
    "\"\"\"\n",
    "import helper\n",
    "import problem_unittests as tests\n",
    "\n",
    "source_path = 'data/small_vocab_en'\n",
    "target_path = 'data/small_vocab_fr'\n",
    "source_text = helper.load_data(source_path)\n",
    "target_text = helper.load_data(target_path)"
   ]
  },
  {
   "cell_type": "markdown",
   "metadata": {},
   "source": [
    "## Explore the Data\n",
    "Play around with view_sentence_range to view different parts of the data."
   ]
  },
  {
   "cell_type": "code",
   "execution_count": 2,
   "metadata": {},
   "outputs": [
    {
     "name": "stdout",
     "output_type": "stream",
     "text": [
      "Dataset Stats\n",
      "Roughly the number of unique words: 227\n",
      "Number of sentences: 137861\n",
      "Average number of words in a sentence: 13.225277634719028\n",
      "\n",
      "English sentences 0 to 10:\n",
      "new jersey is sometimes quiet during autumn , and it is snowy in april .\n",
      "the united states is usually chilly during july , and it is usually freezing in november .\n",
      "california is usually quiet during march , and it is usually hot in june .\n",
      "the united states is sometimes mild during june , and it is cold in september .\n",
      "your least liked fruit is the grape , but my least liked is the apple .\n",
      "his favorite fruit is the orange , but my favorite is the grape .\n",
      "paris is relaxing during december , but it is usually chilly in july .\n",
      "new jersey is busy during spring , and it is never hot in march .\n",
      "our least liked fruit is the lemon , but my least liked is the grape .\n",
      "the united states is sometimes busy during january , and it is sometimes warm in november .\n",
      "\n",
      "French sentences 0 to 10:\n",
      "new jersey est parfois calme pendant l' automne , et il est neigeux en avril .\n",
      "les états-unis est généralement froid en juillet , et il gèle habituellement en novembre .\n",
      "california est généralement calme en mars , et il est généralement chaud en juin .\n",
      "les états-unis est parfois légère en juin , et il fait froid en septembre .\n",
      "votre moins aimé fruit est le raisin , mais mon moins aimé est la pomme .\n",
      "son fruit préféré est l'orange , mais mon préféré est le raisin .\n",
      "paris est relaxant en décembre , mais il est généralement froid en juillet .\n",
      "new jersey est occupé au printemps , et il est jamais chaude en mars .\n",
      "notre fruit est moins aimé le citron , mais mon moins aimé est le raisin .\n",
      "les états-unis est parfois occupé en janvier , et il est parfois chaud en novembre .\n"
     ]
    }
   ],
   "source": [
    "view_sentence_range = (0, 10)\n",
    "\n",
    "\"\"\"\n",
    "DON'T MODIFY ANYTHING IN THIS CELL\n",
    "\"\"\"\n",
    "import numpy as np\n",
    "\n",
    "print('Dataset Stats')\n",
    "print('Roughly the number of unique words: {}'.format(len({word: None for word in source_text.split()})))\n",
    "\n",
    "sentences = source_text.split('\\n')\n",
    "word_counts = [len(sentence.split()) for sentence in sentences]\n",
    "print('Number of sentences: {}'.format(len(sentences)))\n",
    "print('Average number of words in a sentence: {}'.format(np.average(word_counts)))\n",
    "\n",
    "print()\n",
    "print('English sentences {} to {}:'.format(*view_sentence_range))\n",
    "print('\\n'.join(source_text.split('\\n')[view_sentence_range[0]:view_sentence_range[1]]))\n",
    "print()\n",
    "print('French sentences {} to {}:'.format(*view_sentence_range))\n",
    "print('\\n'.join(target_text.split('\\n')[view_sentence_range[0]:view_sentence_range[1]]))"
   ]
  },
  {
   "cell_type": "markdown",
   "metadata": {},
   "source": [
    "## Implement Preprocessing Function\n",
    "### Text to Word Ids\n",
    "As you did with other RNNs, you must turn the text into a number so the computer can understand it. In the function `text_to_ids()`, you'll turn `source_text` and `target_text` from words to ids.  However, you need to add the `<EOS>` word id at the end of `target_text`.  This will help the neural network predict when the sentence should end.\n",
    "\n",
    "You can get the `<EOS>` word id by doing:\n",
    "```python\n",
    "target_vocab_to_int['<EOS>']\n",
    "```\n",
    "You can get other word ids using `source_vocab_to_int` and `target_vocab_to_int`."
   ]
  },
  {
   "cell_type": "code",
   "execution_count": 3,
   "metadata": {},
   "outputs": [
    {
     "name": "stdout",
     "output_type": "stream",
     "text": [
      "Tests Passed\n"
     ]
    }
   ],
   "source": [
    "def text_to_ids(source_text, target_text, source_vocab_to_int, target_vocab_to_int):\n",
    "    \"\"\"\n",
    "    Convert source and target text to proper word ids\n",
    "    :param source_text: String that contains all the source text.\n",
    "    :param target_text: String that contains all the target text.\n",
    "    :param source_vocab_to_int: Dictionary to go from the source words to an id\n",
    "    :param target_vocab_to_int: Dictionary to go from the target words to an id\n",
    "    :return: A tuple of lists (source_id_text, target_id_text)\n",
    "    \"\"\"\n",
    "    # TODO: Implement Function\n",
    "    source_id_text = [\n",
    "        [source_vocab_to_int[word] for word in sentence.split()] \n",
    "        for sentence in source_text.split('\\n')]\n",
    "    target_id_text = [\n",
    "        [target_vocab_to_int[word] for word in sentence.split()] + [target_vocab_to_int['<EOS>']] \n",
    "        for sentence in target_text.split('\\n')]\n",
    "\n",
    "    return source_id_text, target_id_text\n",
    "\n",
    "\"\"\"\n",
    "DON'T MODIFY ANYTHING IN THIS CELL THAT IS BELOW THIS LINE\n",
    "\"\"\"\n",
    "tests.test_text_to_ids(text_to_ids)"
   ]
  },
  {
   "cell_type": "markdown",
   "metadata": {},
   "source": [
    "### Preprocess all the data and save it\n",
    "Running the code cell below will preprocess all the data and save it to file."
   ]
  },
  {
   "cell_type": "code",
   "execution_count": 4,
   "metadata": {
    "collapsed": true
   },
   "outputs": [],
   "source": [
    "\"\"\"\n",
    "DON'T MODIFY ANYTHING IN THIS CELL\n",
    "\"\"\"\n",
    "helper.preprocess_and_save_data(source_path, target_path, text_to_ids)"
   ]
  },
  {
   "cell_type": "markdown",
   "metadata": {},
   "source": [
    "# Check Point\n",
    "This is your first checkpoint. If you ever decide to come back to this notebook or have to restart the notebook, you can start from here. The preprocessed data has been saved to disk."
   ]
  },
  {
   "cell_type": "code",
   "execution_count": 5,
   "metadata": {
    "collapsed": true
   },
   "outputs": [],
   "source": [
    "\"\"\"\n",
    "DON'T MODIFY ANYTHING IN THIS CELL\n",
    "\"\"\"\n",
    "import numpy as np\n",
    "import helper\n",
    "\n",
    "(source_int_text, target_int_text), (source_vocab_to_int, target_vocab_to_int), _ = helper.load_preprocess()"
   ]
  },
  {
   "cell_type": "markdown",
   "metadata": {},
   "source": [
    "### Check the Version of TensorFlow and Access to GPU\n",
    "This will check to make sure you have the correct version of TensorFlow and access to a GPU"
   ]
  },
  {
   "cell_type": "code",
   "execution_count": 6,
   "metadata": {},
   "outputs": [
    {
     "name": "stdout",
     "output_type": "stream",
     "text": [
      "TensorFlow Version: 1.1.0\n",
      "Default GPU Device: /gpu:0\n"
     ]
    }
   ],
   "source": [
    "\"\"\"\n",
    "DON'T MODIFY ANYTHING IN THIS CELL\n",
    "\"\"\"\n",
    "from distutils.version import LooseVersion\n",
    "import warnings\n",
    "import tensorflow as tf\n",
    "from tensorflow.python.layers.core import Dense\n",
    "\n",
    "# Check TensorFlow Version\n",
    "assert LooseVersion(tf.__version__) >= LooseVersion('1.1'), 'Please use TensorFlow version 1.1 or newer'\n",
    "print('TensorFlow Version: {}'.format(tf.__version__))\n",
    "\n",
    "# Check for a GPU\n",
    "if not tf.test.gpu_device_name():\n",
    "    warnings.warn('No GPU found. Please use a GPU to train your neural network.')\n",
    "else:\n",
    "    print('Default GPU Device: {}'.format(tf.test.gpu_device_name()))"
   ]
  },
  {
   "cell_type": "markdown",
   "metadata": {},
   "source": [
    "## Build the Neural Network\n",
    "You'll build the components necessary to build a Sequence-to-Sequence model by implementing the following functions below:\n",
    "- `model_inputs`\n",
    "- `process_decoder_input`\n",
    "- `encoding_layer`\n",
    "- `decoding_layer_train`\n",
    "- `decoding_layer_infer`\n",
    "- `decoding_layer`\n",
    "- `seq2seq_model`\n",
    "\n",
    "### Input\n",
    "Implement the `model_inputs()` function to create TF Placeholders for the Neural Network. It should create the following placeholders:\n",
    "\n",
    "- Input text placeholder named \"input\" using the TF Placeholder name parameter with rank 2.\n",
    "- Targets placeholder with rank 2.\n",
    "- Learning rate placeholder with rank 0.\n",
    "- Keep probability placeholder named \"keep_prob\" using the TF Placeholder name parameter with rank 0.\n",
    "- Target sequence length placeholder named \"target_sequence_length\" with rank 1\n",
    "- Max target sequence length tensor named \"max_target_len\" getting its value from applying tf.reduce_max on the target_sequence_length placeholder. Rank 0.\n",
    "- Source sequence length placeholder named \"source_sequence_length\" with rank 1\n",
    "\n",
    "Return the placeholders in the following the tuple (input, targets, learning rate, keep probability, target sequence length, max target sequence length, source sequence length)"
   ]
  },
  {
   "cell_type": "code",
   "execution_count": 7,
   "metadata": {},
   "outputs": [
    {
     "name": "stdout",
     "output_type": "stream",
     "text": [
      "Tests Passed\n"
     ]
    }
   ],
   "source": [
    "def model_inputs():\n",
    "    \"\"\"\n",
    "    Create TF Placeholders for input, targets, learning rate, and lengths of source and target sequences.\n",
    "    :return: Tuple (input, targets, learning rate, keep probability, target sequence length,\n",
    "    max target sequence length, source sequence length)\n",
    "    \"\"\"\n",
    "    # TODO: Implement Function\n",
    "    inputs = tf.placeholder(tf.int32, [None, None], name=\"input\")\n",
    "    targets = tf.placeholder(tf.int32, [None, None], name=\"target\")\n",
    "    learning_rate = tf.placeholder(tf.float32, name=\"learning_rate\")\n",
    "    keep_prob = tf.placeholder(tf.float32, name=\"keep_prob\")\n",
    "    target_seq_length = tf.placeholder(tf.int32, [None], name=\"target_sequence_length\")\n",
    "    max_target_len = tf.reduce_max(target_seq_length, name=\"max_target_len\")\n",
    "    src_seqence_length = tf.placeholder(tf.int32, [None], name=\"source_sequence_length\")\n",
    "    return inputs, targets, learning_rate, keep_prob, target_seq_length, max_target_len, src_seqence_length\n",
    "\n",
    "\n",
    "\"\"\"\n",
    "DON'T MODIFY ANYTHING IN THIS CELL THAT IS BELOW THIS LINE\n",
    "\"\"\"\n",
    "tests.test_model_inputs(model_inputs)"
   ]
  },
  {
   "cell_type": "markdown",
   "metadata": {},
   "source": [
    "### Process Decoder Input\n",
    "Implement `process_decoder_input` by removing the last word id from each batch in `target_data` and concat the GO ID to the begining of each batch."
   ]
  },
  {
   "cell_type": "code",
   "execution_count": 8,
   "metadata": {},
   "outputs": [
    {
     "name": "stdout",
     "output_type": "stream",
     "text": [
      "Tests Passed\n"
     ]
    }
   ],
   "source": [
    "def process_decoder_input(target_data, target_vocab_to_int, batch_size):\n",
    "    \"\"\"\n",
    "    Preprocess target data for encoding\n",
    "    :param target_data: Target Placehoder\n",
    "    :param target_vocab_to_int: Dictionary to go from the target words to an id\n",
    "    :param batch_size: Batch Size\n",
    "    :return: Preprocessed target data\n",
    "    \"\"\"\n",
    "    # TODO: Implement Function\n",
    "    go = target_vocab_to_int['<GO>']\n",
    "    ending = tf.strided_slice(target_data, [0, 0], [batch_size, -1], [1, 1])\n",
    "    dec_input = tf.concat([tf.fill([batch_size, 1], go), ending], 1)\n",
    "    return dec_input\n",
    "\n",
    "\"\"\"\n",
    "DON'T MODIFY ANYTHING IN THIS CELL THAT IS BELOW THIS LINE\n",
    "\"\"\"\n",
    "tests.test_process_encoding_input(process_decoder_input)"
   ]
  },
  {
   "cell_type": "markdown",
   "metadata": {},
   "source": [
    "### Encoding\n",
    "Implement `encoding_layer()` to create a Encoder RNN layer:\n",
    " * Embed the encoder input using [`tf.contrib.layers.embed_sequence`](https://www.tensorflow.org/api_docs/python/tf/contrib/layers/embed_sequence)\n",
    " * Construct a [stacked](https://github.com/tensorflow/tensorflow/blob/6947f65a374ebf29e74bb71e36fd82760056d82c/tensorflow/docs_src/tutorials/recurrent.md#stacking-multiple-lstms) [`tf.contrib.rnn.LSTMCell`](https://www.tensorflow.org/api_docs/python/tf/contrib/rnn/LSTMCell) wrapped in a [`tf.contrib.rnn.DropoutWrapper`](https://www.tensorflow.org/api_docs/python/tf/contrib/rnn/DropoutWrapper)\n",
    " * Pass cell and embedded input to [`tf.nn.dynamic_rnn()`](https://www.tensorflow.org/api_docs/python/tf/nn/dynamic_rnn)"
   ]
  },
  {
   "cell_type": "code",
   "execution_count": 9,
   "metadata": {
    "scrolled": false
   },
   "outputs": [
    {
     "name": "stdout",
     "output_type": "stream",
     "text": [
      "Tests Passed\n"
     ]
    }
   ],
   "source": [
    "from imp import reload\n",
    "reload(tests)\n",
    "\n",
    "def encoding_layer(rnn_inputs, rnn_size, num_layers, keep_prob, \n",
    "                   source_sequence_length, source_vocab_size, \n",
    "                   encoding_embedding_size):\n",
    "    \"\"\"\n",
    "    Create encoding layer\n",
    "    :param rnn_inputs: Inputs for the RNN\n",
    "    :param rnn_size: RNN Size\n",
    "    :param num_layers: Number of layers\n",
    "    :param keep_prob: Dropout keep probability\n",
    "    :param source_sequence_length: a list of the lengths of each sequence in the batch\n",
    "    :param source_vocab_size: vocabulary size of source data\n",
    "    :param encoding_embedding_size: embedding size of source data\n",
    "    :return: tuple (RNN output, RNN state)\n",
    "    \"\"\"\n",
    "    # TODO: Implement Function\n",
    "    enc_embed_input = tf.contrib.layers.embed_sequence(\n",
    "        rnn_inputs, source_vocab_size, encoding_embedding_size)\n",
    "\n",
    "    def make_cell(rnn_size):\n",
    "        enc_cell = tf.contrib.rnn.LSTMCell(\n",
    "            rnn_size, initializer=tf.random_uniform_initializer(-0.1, 0.1, seed=2))\n",
    "        enc_cell = tf.contrib.rnn.DropoutWrapper(enc_cell, keep_prob)\n",
    "        return enc_cell\n",
    "\n",
    "    enc_cell = tf.contrib.rnn.MultiRNNCell([make_cell(rnn_size) for _ in range(num_layers)])\n",
    "    \n",
    "    enc_output, enc_state = tf.nn.dynamic_rnn(\n",
    "        enc_cell, enc_embed_input, sequence_length=source_sequence_length, dtype=tf.float32)\n",
    "    return enc_output, enc_state\n",
    "\n",
    "\"\"\"\n",
    "DON'T MODIFY ANYTHING IN THIS CELL THAT IS BELOW THIS LINE\n",
    "\"\"\"\n",
    "tests.test_encoding_layer(encoding_layer)"
   ]
  },
  {
   "cell_type": "markdown",
   "metadata": {},
   "source": [
    "### Decoding - Training\n",
    "Create a training decoding layer:\n",
    "* Create a [`tf.contrib.seq2seq.TrainingHelper`](https://www.tensorflow.org/api_docs/python/tf/contrib/seq2seq/TrainingHelper) \n",
    "* Create a [`tf.contrib.seq2seq.BasicDecoder`](https://www.tensorflow.org/api_docs/python/tf/contrib/seq2seq/BasicDecoder)\n",
    "* Obtain the decoder outputs from [`tf.contrib.seq2seq.dynamic_decode`](https://www.tensorflow.org/api_docs/python/tf/contrib/seq2seq/dynamic_decode)"
   ]
  },
  {
   "cell_type": "code",
   "execution_count": 10,
   "metadata": {},
   "outputs": [
    {
     "name": "stdout",
     "output_type": "stream",
     "text": [
      "Tests Passed\n"
     ]
    }
   ],
   "source": [
    "\n",
    "def decoding_layer_train(encoder_state, dec_cell, dec_embed_input, \n",
    "                         target_sequence_length, max_summary_length, \n",
    "                         output_layer, keep_prob):\n",
    "    \"\"\"\n",
    "    Create a decoding layer for training\n",
    "    :param encoder_state: Encoder State\n",
    "    :param dec_cell: Decoder RNN Cell\n",
    "    :param dec_embed_input: Decoder embedded input\n",
    "    :param target_sequence_length: The lengths of each sequence in the target batch\n",
    "    :param max_summary_length: The length of the longest sequence in the batch\n",
    "    :param output_layer: Function to apply the output layer\n",
    "    :param keep_prob: Dropout keep probability\n",
    "    :return: BasicDecoderOutput containing training logits and sample_id\n",
    "    \"\"\"\n",
    "    # TODO: Implement Function\n",
    "    training_helper = tf.contrib.seq2seq.TrainingHelper(\n",
    "        inputs=dec_embed_input, sequence_length=target_sequence_length, time_major=False)\n",
    "\n",
    "    training_decoder = tf.contrib.seq2seq.BasicDecoder(dec_cell, \n",
    "                                                       training_helper,\n",
    "                                                       encoder_state, output_layer)\n",
    "\n",
    "    training_decoder_output, _ = tf.contrib.seq2seq.dynamic_decode(\n",
    "        training_decoder, impute_finished=True,\n",
    "        maximum_iterations=max_summary_length)\n",
    "\n",
    "    logits = training_decoder_output.rnn_output\n",
    "    sample_id = training_decoder_output.sample_id\n",
    "    logits = tf.nn.dropout(logits, keep_prob)\n",
    "    \n",
    "    return tf.contrib.seq2seq.BasicDecoderOutput(logits, sample_id)\n",
    "\n",
    "\"\"\"\n",
    "DON'T MODIFY ANYTHING IN THIS CELL THAT IS BELOW THIS LINE\n",
    "\"\"\"\n",
    "tests.test_decoding_layer_train(decoding_layer_train)"
   ]
  },
  {
   "cell_type": "markdown",
   "metadata": {},
   "source": [
    "### Decoding - Inference\n",
    "Create inference decoder:\n",
    "* Create a [`tf.contrib.seq2seq.GreedyEmbeddingHelper`](https://www.tensorflow.org/api_docs/python/tf/contrib/seq2seq/GreedyEmbeddingHelper)\n",
    "* Create a [`tf.contrib.seq2seq.BasicDecoder`](https://www.tensorflow.org/api_docs/python/tf/contrib/seq2seq/BasicDecoder)\n",
    "* Obtain the decoder outputs from [`tf.contrib.seq2seq.dynamic_decode`](https://www.tensorflow.org/api_docs/python/tf/contrib/seq2seq/dynamic_decode)"
   ]
  },
  {
   "cell_type": "code",
   "execution_count": 11,
   "metadata": {
    "scrolled": true
   },
   "outputs": [
    {
     "name": "stdout",
     "output_type": "stream",
     "text": [
      "Tests Passed\n"
     ]
    }
   ],
   "source": [
    "def decoding_layer_infer(encoder_state, dec_cell, dec_embeddings, start_of_sequence_id,\n",
    "                         end_of_sequence_id, max_target_sequence_length,\n",
    "                         vocab_size, output_layer, batch_size, keep_prob):\n",
    "    \"\"\"\n",
    "    Create a decoding layer for inference\n",
    "    :param encoder_state: Encoder state\n",
    "    :param dec_cell: Decoder RNN Cell\n",
    "    :param dec_embeddings: Decoder embeddings\n",
    "    :param start_of_sequence_id: GO ID\n",
    "    :param end_of_sequence_id: EOS Id\n",
    "    :param max_target_sequence_length: Maximum length of target sequences\n",
    "    :param vocab_size: Size of decoder/target vocabulary\n",
    "    :param decoding_scope: TenorFlow Variable Scope for decoding\n",
    "    :param output_layer: Function to apply the output layer\n",
    "    :param batch_size: Batch size\n",
    "    :param keep_prob: Dropout keep probability\n",
    "    :return: BasicDecoderOutput containing inference logits and sample_id\n",
    "    \"\"\"\n",
    "    # TODO: Implement Function\n",
    "    start_tokens = tf.tile(\n",
    "        tf.constant([start_of_sequence_id], dtype=tf.int32), [batch_size], \n",
    "        name='start_tokens')\n",
    "\n",
    "    inference_helper = tf.contrib.seq2seq.GreedyEmbeddingHelper(\n",
    "        dec_embeddings, start_tokens, end_of_sequence_id)\n",
    "\n",
    "    inference_decoder = tf.contrib.seq2seq.BasicDecoder(dec_cell,\n",
    "                                                        inference_helper,\n",
    "                                                        encoder_state,\n",
    "                                                        output_layer)\n",
    "        \n",
    "    inference_decoder_output, _ = tf.contrib.seq2seq.dynamic_decode(\n",
    "        inference_decoder, impute_finished=True,\n",
    "        maximum_iterations=max_target_sequence_length)\n",
    "\n",
    "    logits = inference_decoder_output.rnn_output\n",
    "    sample_id = inference_decoder_output.sample_id\n",
    "    logits = tf.nn.dropout(logits, keep_prob)\n",
    "    \n",
    "    return tf.contrib.seq2seq.BasicDecoderOutput(logits, sample_id)\n",
    "\n",
    "\"\"\"\n",
    "DON'T MODIFY ANYTHING IN THIS CELL THAT IS BELOW THIS LINE\n",
    "\"\"\"\n",
    "tests.test_decoding_layer_infer(decoding_layer_infer)"
   ]
  },
  {
   "cell_type": "markdown",
   "metadata": {},
   "source": [
    "### Build the Decoding Layer\n",
    "Implement `decoding_layer()` to create a Decoder RNN layer.\n",
    "\n",
    "* Embed the target sequences\n",
    "* Construct the decoder LSTM cell (just like you constructed the encoder cell above)\n",
    "* Create an output layer to map the outputs of the decoder to the elements of our vocabulary\n",
    "* Use the your `decoding_layer_train(encoder_state, dec_cell, dec_embed_input, target_sequence_length, max_target_sequence_length, output_layer, keep_prob)` function to get the training logits.\n",
    "* Use your `decoding_layer_infer(encoder_state, dec_cell, dec_embeddings, start_of_sequence_id, end_of_sequence_id, max_target_sequence_length, vocab_size, output_layer, batch_size, keep_prob)` function to get the inference logits.\n",
    "\n",
    "Note: You'll need to use [tf.variable_scope](https://www.tensorflow.org/api_docs/python/tf/variable_scope) to share variables between training and inference."
   ]
  },
  {
   "cell_type": "code",
   "execution_count": 12,
   "metadata": {},
   "outputs": [
    {
     "name": "stdout",
     "output_type": "stream",
     "text": [
      "Tests Passed\n"
     ]
    }
   ],
   "source": [
    "def decoding_layer(dec_input, encoder_state,\n",
    "                   target_sequence_length, max_target_sequence_length,\n",
    "                   rnn_size,\n",
    "                   num_layers, target_vocab_to_int, target_vocab_size,\n",
    "                   batch_size, keep_prob, decoding_embedding_size):\n",
    "    \"\"\"\n",
    "    Create decoding layer\n",
    "    :param dec_input: Decoder input\n",
    "    :param encoder_state: Encoder state\n",
    "    :param target_sequence_length: The lengths of each sequence in the target batch\n",
    "    :param max_target_sequence_length: Maximum length of target sequences\n",
    "    :param rnn_size: RNN Size\n",
    "    :param num_layers: Number of layers\n",
    "    :param target_vocab_to_int: Dictionary to go from the target words to an id\n",
    "    :param target_vocab_size: Size of target vocabulary\n",
    "    :param batch_size: The size of the batch\n",
    "    :param keep_prob: Dropout keep probability\n",
    "    :return: Tuple of (Training BasicDecoderOutput, Inference BasicDecoderOutput)\n",
    "    \"\"\"\n",
    "    # TODO: Implement Function\n",
    "    # 1. Embed the target sequences\n",
    "    dec_embeddings = tf.Variable(tf.random_uniform([target_vocab_size,\n",
    "                                                    decoding_embedding_size]))\n",
    "    dec_embed_input = tf.nn.embedding_lookup(dec_embeddings, dec_input)\n",
    "\n",
    "    # 2. Construct the decoder LSTM cell\n",
    "    def make_cell(rnn_size):\n",
    "        lstm = tf.contrib.rnn.LSTMCell(\n",
    "            rnn_size, initializer=tf.random_uniform_initializer(-0.1, 0.1, seed=2))\n",
    "        dropout = tf.contrib.rnn.DropoutWrapper(lstm, keep_prob)\n",
    "        return dropout\n",
    "    dec_cell = tf.contrib.rnn.MultiRNNCell([make_cell(rnn_size) for _ in range(num_layers)])\n",
    "\n",
    "    # 3. Create an output layer \n",
    "    output_layer = Dense(target_vocab_size,\n",
    "                         kernel_initializer = tf.truncated_normal_initializer(mean = 0.0,\n",
    "                                                                              stddev=0.1))\n",
    "    \n",
    "    # 4. Use the your decoding_layer_train\n",
    "    with tf.variable_scope(\"decode\"):\n",
    "        train_logits = decoding_layer_train(encoder_state, \n",
    "                                            dec_cell, \n",
    "                                            dec_embed_input, \n",
    "                                            target_sequence_length,\n",
    "                                            max_target_sequence_length, \n",
    "                                            output_layer, \n",
    "                                            keep_prob) \n",
    "    \n",
    "    # 5. Use the your decoding_layer_infer\n",
    "    with tf.variable_scope(\"decode\", reuse=True):\n",
    "        infer_logits = decoding_layer_infer(encoder_state, \n",
    "                                            dec_cell, \n",
    "                                            dec_embeddings, \n",
    "                                            target_vocab_to_int['<GO>'], \n",
    "                                            target_vocab_to_int['<EOS>'],\n",
    "                                            max_target_sequence_length, \n",
    "                                            target_vocab_size,\n",
    "                                            output_layer, \n",
    "                                            batch_size,\n",
    "                                            keep_prob)\n",
    "\n",
    "    return train_logits, infer_logits\n",
    "\n",
    "\n",
    "\n",
    "\"\"\"\n",
    "DON'T MODIFY ANYTHING IN THIS CELL THAT IS BELOW THIS LINE\n",
    "\"\"\"\n",
    "tests.test_decoding_layer(decoding_layer)"
   ]
  },
  {
   "cell_type": "markdown",
   "metadata": {},
   "source": [
    "### Build the Neural Network\n",
    "Apply the functions you implemented above to:\n",
    "\n",
    "- Apply embedding to the input data for the encoder.\n",
    "- Encode the input using your `encoding_layer(rnn_inputs, rnn_size, num_layers, keep_prob,  source_sequence_length, source_vocab_size, encoding_embedding_size)`.\n",
    "- Process target data using your `process_decoder_input(target_data, target_vocab_to_int, batch_size)` function.\n",
    "- Apply embedding to the target data for the decoder.\n",
    "- Decode the encoded input using your `decoding_layer(dec_input, enc_state, target_sequence_length, max_target_sentence_length, rnn_size, num_layers, target_vocab_to_int, target_vocab_size, batch_size, keep_prob, dec_embedding_size)` function."
   ]
  },
  {
   "cell_type": "code",
   "execution_count": 13,
   "metadata": {},
   "outputs": [
    {
     "name": "stdout",
     "output_type": "stream",
     "text": [
      "Tests Passed\n"
     ]
    }
   ],
   "source": [
    "def seq2seq_model(input_data, target_data, keep_prob, batch_size,\n",
    "                  source_sequence_length, target_sequence_length,\n",
    "                  max_target_sentence_length,\n",
    "                  source_vocab_size, target_vocab_size,\n",
    "                  enc_embedding_size, dec_embedding_size,\n",
    "                  rnn_size, num_layers, target_vocab_to_int):\n",
    "    \"\"\"\n",
    "    Build the Sequence-to-Sequence part of the neural network\n",
    "    :param input_data: Input placeholder\n",
    "    :param target_data: Target placeholder\n",
    "    :param keep_prob: Dropout keep probability placeholder\n",
    "    :param batch_size: Batch Size\n",
    "    :param source_sequence_length: Sequence Lengths of source sequences in the batch\n",
    "    :param target_sequence_length: Sequence Lengths of target sequences in the batch\n",
    "    :param source_vocab_size: Source vocabulary size\n",
    "    :param target_vocab_size: Target vocabulary size\n",
    "    :param enc_embedding_size: Decoder embedding size\n",
    "    :param dec_embedding_size: Encoder embedding size\n",
    "    :param rnn_size: RNN Size\n",
    "    :param num_layers: Number of layers\n",
    "    :param target_vocab_to_int: Dictionary to go from the target words to an id\n",
    "    :return: Tuple of (Training BasicDecoderOutput, Inference BasicDecoderOutput)\n",
    "    \"\"\"\n",
    "    # TODO: Implement Function\n",
    "    _, enc_state = encoding_layer(input_data, \n",
    "                               rnn_size, \n",
    "                               num_layers,\n",
    "                               keep_prob,\n",
    "                               source_sequence_length,\n",
    "                               source_vocab_size, \n",
    "                               enc_embedding_size)\n",
    "    \n",
    "    \n",
    "    # Prepare the target sequences we'll feed to the decoder in training mode\n",
    "    dec_input = process_decoder_input(target_data, target_vocab_to_int, batch_size)\n",
    "    \n",
    "    # Pass encoder state and decoder inputs to the decoders\n",
    "    training_decoder_output, inference_decoder_output = decoding_layer(\n",
    "        dec_input, \n",
    "        enc_state, \n",
    "        target_sequence_length,\n",
    "        max_target_sentence_length, \n",
    "        rnn_size, \n",
    "        num_layers,\n",
    "        target_vocab_to_int,\n",
    "        target_vocab_size, \n",
    "        batch_size,\n",
    "        keep_prob, \n",
    "        dec_embedding_size)\n",
    "    \n",
    "    return training_decoder_output, inference_decoder_output\n",
    "\n",
    "\n",
    "\"\"\"\n",
    "DON'T MODIFY ANYTHING IN THIS CELL THAT IS BELOW THIS LINE\n",
    "\"\"\"\n",
    "tests.test_seq2seq_model(seq2seq_model)"
   ]
  },
  {
   "cell_type": "markdown",
   "metadata": {},
   "source": [
    "## Neural Network Training\n",
    "### Hyperparameters\n",
    "Tune the following parameters:\n",
    "\n",
    "- Set `epochs` to the number of epochs.\n",
    "- Set `batch_size` to the batch size.\n",
    "- Set `rnn_size` to the size of the RNNs.\n",
    "- Set `num_layers` to the number of layers.\n",
    "- Set `encoding_embedding_size` to the size of the embedding for the encoder.\n",
    "- Set `decoding_embedding_size` to the size of the embedding for the decoder.\n",
    "- Set `learning_rate` to the learning rate.\n",
    "- Set `keep_probability` to the Dropout keep probability\n",
    "- Set `display_step` to state how many steps between each debug output statement"
   ]
  },
  {
   "cell_type": "code",
   "execution_count": 14,
   "metadata": {
    "collapsed": true
   },
   "outputs": [],
   "source": [
    "# Number of Epochs\n",
    "epochs = 2\n",
    "# Batch Size\n",
    "batch_size = 256\n",
    "# RNN Size\n",
    "rnn_size = 512\n",
    "# Number of Layers\n",
    "num_layers = 2\n",
    "# Embedding Size\n",
    "encoding_embedding_size = 256\n",
    "decoding_embedding_size = 256\n",
    "# Learning Rate\n",
    "learning_rate = 0.001\n",
    "# Dropout Keep Probability\n",
    "keep_probability = 0.5\n",
    "display_step = 8"
   ]
  },
  {
   "cell_type": "markdown",
   "metadata": {},
   "source": [
    "### Build the Graph\n",
    "Build the graph using the neural network you implemented."
   ]
  },
  {
   "cell_type": "code",
   "execution_count": 15,
   "metadata": {
    "collapsed": true
   },
   "outputs": [],
   "source": [
    "\"\"\"\n",
    "DON'T MODIFY ANYTHING IN THIS CELL\n",
    "\"\"\"\n",
    "save_path = 'checkpoints/dev'\n",
    "(source_int_text, target_int_text), (source_vocab_to_int, target_vocab_to_int), _ = helper.load_preprocess()\n",
    "max_target_sentence_length = max([len(sentence) for sentence in source_int_text])\n",
    "\n",
    "train_graph = tf.Graph()\n",
    "with train_graph.as_default():\n",
    "    input_data, targets, lr, keep_prob, target_sequence_length, max_target_sequence_length, source_sequence_length = model_inputs()\n",
    "\n",
    "    #sequence_length = tf.placeholder_with_default(max_target_sentence_length, None, name='sequence_length')\n",
    "    input_shape = tf.shape(input_data)\n",
    "\n",
    "    train_logits, inference_logits = seq2seq_model(tf.reverse(input_data, [-1]),\n",
    "                                                   targets,\n",
    "                                                   keep_prob,\n",
    "                                                   batch_size,\n",
    "                                                   source_sequence_length,\n",
    "                                                   target_sequence_length,\n",
    "                                                   max_target_sequence_length,\n",
    "                                                   len(source_vocab_to_int),\n",
    "                                                   len(target_vocab_to_int),\n",
    "                                                   encoding_embedding_size,\n",
    "                                                   decoding_embedding_size,\n",
    "                                                   rnn_size,\n",
    "                                                   num_layers,\n",
    "                                                   target_vocab_to_int)\n",
    "\n",
    "\n",
    "    training_logits = tf.identity(train_logits.rnn_output, name='logits')\n",
    "    inference_logits = tf.identity(inference_logits.sample_id, name='predictions')\n",
    "\n",
    "    masks = tf.sequence_mask(target_sequence_length, max_target_sequence_length, dtype=tf.float32, name='masks')\n",
    "\n",
    "    with tf.name_scope(\"optimization\"):\n",
    "        # Loss function\n",
    "        cost = tf.contrib.seq2seq.sequence_loss(\n",
    "            training_logits,\n",
    "            targets,\n",
    "            masks)\n",
    "\n",
    "        # Optimizer\n",
    "        optimizer = tf.train.AdamOptimizer(lr)\n",
    "\n",
    "        # Gradient Clipping\n",
    "        gradients = optimizer.compute_gradients(cost)\n",
    "        capped_gradients = [(tf.clip_by_value(grad, -1., 1.), var) for grad, var in gradients if grad is not None]\n",
    "        train_op = optimizer.apply_gradients(capped_gradients)\n"
   ]
  },
  {
   "cell_type": "markdown",
   "metadata": {},
   "source": [
    "Batch and pad the source and target sequences"
   ]
  },
  {
   "cell_type": "code",
   "execution_count": 16,
   "metadata": {
    "collapsed": true
   },
   "outputs": [],
   "source": [
    "\"\"\"\n",
    "DON'T MODIFY ANYTHING IN THIS CELL\n",
    "\"\"\"\n",
    "def pad_sentence_batch(sentence_batch, pad_int):\n",
    "    \"\"\"Pad sentences with <PAD> so that each sentence of a batch has the same length\"\"\"\n",
    "    max_sentence = max([len(sentence) for sentence in sentence_batch])\n",
    "    return [sentence + [pad_int] * (max_sentence - len(sentence)) for sentence in sentence_batch]\n",
    "\n",
    "\n",
    "def get_batches(sources, targets, batch_size, source_pad_int, target_pad_int):\n",
    "    \"\"\"Batch targets, sources, and the lengths of their sentences together\"\"\"\n",
    "    for batch_i in range(0, len(sources)//batch_size):\n",
    "        start_i = batch_i * batch_size\n",
    "\n",
    "        # Slice the right amount for the batch\n",
    "        sources_batch = sources[start_i:start_i + batch_size]\n",
    "        targets_batch = targets[start_i:start_i + batch_size]\n",
    "\n",
    "        # Pad\n",
    "        pad_sources_batch = np.array(pad_sentence_batch(sources_batch, source_pad_int))\n",
    "        pad_targets_batch = np.array(pad_sentence_batch(targets_batch, target_pad_int))\n",
    "\n",
    "        # Need the lengths for the _lengths parameters\n",
    "        pad_targets_lengths = []\n",
    "        for target in pad_targets_batch:\n",
    "            pad_targets_lengths.append(len(target))\n",
    "\n",
    "        pad_source_lengths = []\n",
    "        for source in pad_sources_batch:\n",
    "            pad_source_lengths.append(len(source))\n",
    "\n",
    "        yield pad_sources_batch, pad_targets_batch, pad_source_lengths, pad_targets_lengths\n"
   ]
  },
  {
   "cell_type": "markdown",
   "metadata": {},
   "source": [
    "### Train\n",
    "Train the neural network on the preprocessed data. If you have a hard time getting a good loss, check the forms to see if anyone is having the same problem."
   ]
  },
  {
   "cell_type": "code",
   "execution_count": 17,
   "metadata": {
    "scrolled": false
   },
   "outputs": [
    {
     "name": "stdout",
     "output_type": "stream",
     "text": [
      "Epoch   0 Batch    8/538 - Train Accuracy: 0.3250, Validation Accuracy: 0.3906, Loss: 4.6024\n",
      "Epoch   0 Batch   16/538 - Train Accuracy: 0.4128, Validation Accuracy: 0.4535, Loss: 4.3014\n",
      "Epoch   0 Batch   24/538 - Train Accuracy: 0.4382, Validation Accuracy: 0.4908, Loss: 4.1291\n",
      "Epoch   0 Batch   32/538 - Train Accuracy: 0.4364, Validation Accuracy: 0.4922, Loss: 3.9527\n",
      "Epoch   0 Batch   40/538 - Train Accuracy: 0.5036, Validation Accuracy: 0.5030, Loss: 3.8085\n",
      "Epoch   0 Batch   48/538 - Train Accuracy: 0.4887, Validation Accuracy: 0.5064, Loss: 3.7267\n",
      "Epoch   0 Batch   56/538 - Train Accuracy: 0.4317, Validation Accuracy: 0.4664, Loss: 3.7077\n",
      "Epoch   0 Batch   64/538 - Train Accuracy: 0.4178, Validation Accuracy: 0.4599, Loss: 3.6315\n",
      "Epoch   0 Batch   72/538 - Train Accuracy: 0.3953, Validation Accuracy: 0.4295, Loss: 3.5798\n",
      "Epoch   0 Batch   80/538 - Train Accuracy: 0.3855, Validation Accuracy: 0.4522, Loss: 3.5260\n",
      "Epoch   0 Batch   88/538 - Train Accuracy: 0.4402, Validation Accuracy: 0.4744, Loss: 3.4775\n",
      "Epoch   0 Batch   96/538 - Train Accuracy: 0.4474, Validation Accuracy: 0.4760, Loss: 3.3937\n",
      "Epoch   0 Batch  104/538 - Train Accuracy: 0.4743, Validation Accuracy: 0.5023, Loss: 3.4287\n",
      "Epoch   0 Batch  112/538 - Train Accuracy: 0.4572, Validation Accuracy: 0.5089, Loss: 3.3867\n",
      "Epoch   0 Batch  120/538 - Train Accuracy: 0.5143, Validation Accuracy: 0.5453, Loss: 3.3268\n",
      "Epoch   0 Batch  128/538 - Train Accuracy: 0.5039, Validation Accuracy: 0.5160, Loss: 3.2338\n",
      "Epoch   0 Batch  136/538 - Train Accuracy: 0.5045, Validation Accuracy: 0.5291, Loss: 3.2216\n",
      "Epoch   0 Batch  144/538 - Train Accuracy: 0.5549, Validation Accuracy: 0.5675, Loss: 3.2584\n",
      "Epoch   0 Batch  152/538 - Train Accuracy: 0.5480, Validation Accuracy: 0.5618, Loss: 3.2283\n",
      "Epoch   0 Batch  160/538 - Train Accuracy: 0.5493, Validation Accuracy: 0.5531, Loss: 3.2254\n",
      "Epoch   0 Batch  168/538 - Train Accuracy: 0.5062, Validation Accuracy: 0.5581, Loss: 3.2261\n",
      "Epoch   0 Batch  176/538 - Train Accuracy: 0.5377, Validation Accuracy: 0.5687, Loss: 3.2206\n",
      "Epoch   0 Batch  184/538 - Train Accuracy: 0.5610, Validation Accuracy: 0.5755, Loss: 3.1796\n",
      "Epoch   0 Batch  192/538 - Train Accuracy: 0.5510, Validation Accuracy: 0.5696, Loss: 3.1531\n",
      "Epoch   0 Batch  200/538 - Train Accuracy: 0.5832, Validation Accuracy: 0.5895, Loss: 3.1449\n",
      "Epoch   0 Batch  208/538 - Train Accuracy: 0.5416, Validation Accuracy: 0.5684, Loss: 3.2379\n",
      "Epoch   0 Batch  216/538 - Train Accuracy: 0.5414, Validation Accuracy: 0.5891, Loss: 3.0962\n",
      "Epoch   0 Batch  224/538 - Train Accuracy: 0.5682, Validation Accuracy: 0.6048, Loss: 3.1426\n",
      "Epoch   0 Batch  232/538 - Train Accuracy: 0.5975, Validation Accuracy: 0.6009, Loss: 3.0781\n",
      "Epoch   0 Batch  240/538 - Train Accuracy: 0.5785, Validation Accuracy: 0.5874, Loss: 3.0859\n",
      "Epoch   0 Batch  248/538 - Train Accuracy: 0.5938, Validation Accuracy: 0.6161, Loss: 3.0624\n",
      "Epoch   0 Batch  256/538 - Train Accuracy: 0.5926, Validation Accuracy: 0.6088, Loss: 3.0444\n",
      "Epoch   0 Batch  264/538 - Train Accuracy: 0.5807, Validation Accuracy: 0.6147, Loss: 2.9950\n",
      "Epoch   0 Batch  272/538 - Train Accuracy: 0.5949, Validation Accuracy: 0.6259, Loss: 3.0123\n",
      "Epoch   0 Batch  280/538 - Train Accuracy: 0.6492, Validation Accuracy: 0.6199, Loss: 3.0744\n",
      "Epoch   0 Batch  288/538 - Train Accuracy: 0.5998, Validation Accuracy: 0.6310, Loss: 3.0508\n",
      "Epoch   0 Batch  296/538 - Train Accuracy: 0.6189, Validation Accuracy: 0.6243, Loss: 3.0208\n",
      "Epoch   0 Batch  304/538 - Train Accuracy: 0.5961, Validation Accuracy: 0.6305, Loss: 3.0344\n",
      "Epoch   0 Batch  312/538 - Train Accuracy: 0.6701, Validation Accuracy: 0.6186, Loss: 2.9975\n",
      "Epoch   0 Batch  320/538 - Train Accuracy: 0.6176, Validation Accuracy: 0.6191, Loss: 3.0258\n",
      "Epoch   0 Batch  328/538 - Train Accuracy: 0.6540, Validation Accuracy: 0.6294, Loss: 3.0069\n",
      "Epoch   0 Batch  336/538 - Train Accuracy: 0.5975, Validation Accuracy: 0.6076, Loss: 3.0728\n",
      "Epoch   0 Batch  344/538 - Train Accuracy: 0.6055, Validation Accuracy: 0.6177, Loss: 3.0630\n",
      "Epoch   0 Batch  352/538 - Train Accuracy: 0.6497, Validation Accuracy: 0.6420, Loss: 3.0202\n",
      "Epoch   0 Batch  360/538 - Train Accuracy: 0.6258, Validation Accuracy: 0.6357, Loss: 2.9732\n",
      "Epoch   0 Batch  368/538 - Train Accuracy: 0.6841, Validation Accuracy: 0.6429, Loss: 2.9144\n",
      "Epoch   0 Batch  376/538 - Train Accuracy: 0.6336, Validation Accuracy: 0.6534, Loss: 3.0563\n",
      "Epoch   0 Batch  384/538 - Train Accuracy: 0.6488, Validation Accuracy: 0.6499, Loss: 2.9549\n",
      "Epoch   0 Batch  392/538 - Train Accuracy: 0.6503, Validation Accuracy: 0.6463, Loss: 2.9956\n",
      "Epoch   0 Batch  400/538 - Train Accuracy: 0.6384, Validation Accuracy: 0.6511, Loss: 2.9443\n",
      "Epoch   0 Batch  408/538 - Train Accuracy: 0.6156, Validation Accuracy: 0.6490, Loss: 2.9472\n",
      "Epoch   0 Batch  416/538 - Train Accuracy: 0.6896, Validation Accuracy: 0.6587, Loss: 2.9373\n",
      "Epoch   0 Batch  424/538 - Train Accuracy: 0.6719, Validation Accuracy: 0.6708, Loss: 2.9780\n",
      "Epoch   0 Batch  432/538 - Train Accuracy: 0.7115, Validation Accuracy: 0.6529, Loss: 2.8877\n",
      "Epoch   0 Batch  440/538 - Train Accuracy: 0.6742, Validation Accuracy: 0.6660, Loss: 3.0029\n",
      "Epoch   0 Batch  448/538 - Train Accuracy: 0.6920, Validation Accuracy: 0.6925, Loss: 2.9271\n",
      "Epoch   0 Batch  456/538 - Train Accuracy: 0.7339, Validation Accuracy: 0.6841, Loss: 2.9400\n",
      "Epoch   0 Batch  464/538 - Train Accuracy: 0.7180, Validation Accuracy: 0.6985, Loss: 2.9296\n",
      "Epoch   0 Batch  472/538 - Train Accuracy: 0.7129, Validation Accuracy: 0.7118, Loss: 2.8907\n",
      "Epoch   0 Batch  480/538 - Train Accuracy: 0.7139, Validation Accuracy: 0.6974, Loss: 2.8655\n",
      "Epoch   0 Batch  488/538 - Train Accuracy: 0.7574, Validation Accuracy: 0.7211, Loss: 2.9236\n",
      "Epoch   0 Batch  496/538 - Train Accuracy: 0.7338, Validation Accuracy: 0.7317, Loss: 2.8620\n",
      "Epoch   0 Batch  504/538 - Train Accuracy: 0.7439, Validation Accuracy: 0.7502, Loss: 2.9362\n",
      "Epoch   0 Batch  512/538 - Train Accuracy: 0.7651, Validation Accuracy: 0.7532, Loss: 2.8849\n",
      "Epoch   0 Batch  520/538 - Train Accuracy: 0.7490, Validation Accuracy: 0.7463, Loss: 2.8335\n",
      "Epoch   0 Batch  528/538 - Train Accuracy: 0.7303, Validation Accuracy: 0.7559, Loss: 2.9728\n",
      "Epoch   0 Batch  536/538 - Train Accuracy: 0.7833, Validation Accuracy: 0.7805, Loss: 2.8803\n",
      "Epoch   1 Batch    8/538 - Train Accuracy: 0.7807, Validation Accuracy: 0.7710, Loss: 2.8758\n",
      "Epoch   1 Batch   16/538 - Train Accuracy: 0.7915, Validation Accuracy: 0.7706, Loss: 2.8015\n",
      "Epoch   1 Batch   24/538 - Train Accuracy: 0.7950, Validation Accuracy: 0.7686, Loss: 2.8704\n",
      "Epoch   1 Batch   32/538 - Train Accuracy: 0.7710, Validation Accuracy: 0.7701, Loss: 2.8274\n",
      "Epoch   1 Batch   40/538 - Train Accuracy: 0.8123, Validation Accuracy: 0.7923, Loss: 2.8446\n",
      "Epoch   1 Batch   48/538 - Train Accuracy: 0.8065, Validation Accuracy: 0.8063, Loss: 2.8253\n",
      "Epoch   1 Batch   56/538 - Train Accuracy: 0.8222, Validation Accuracy: 0.8157, Loss: 2.8095\n",
      "Epoch   1 Batch   64/538 - Train Accuracy: 0.8464, Validation Accuracy: 0.8088, Loss: 2.7953\n",
      "Epoch   1 Batch   72/538 - Train Accuracy: 0.8248, Validation Accuracy: 0.8049, Loss: 2.8054\n",
      "Epoch   1 Batch   80/538 - Train Accuracy: 0.8232, Validation Accuracy: 0.8224, Loss: 2.8493\n",
      "Epoch   1 Batch   88/538 - Train Accuracy: 0.8400, Validation Accuracy: 0.8278, Loss: 2.7844\n",
      "Epoch   1 Batch   96/538 - Train Accuracy: 0.8785, Validation Accuracy: 0.8187, Loss: 2.7491\n",
      "Epoch   1 Batch  104/538 - Train Accuracy: 0.8242, Validation Accuracy: 0.8047, Loss: 2.7660\n",
      "Epoch   1 Batch  112/538 - Train Accuracy: 0.8766, Validation Accuracy: 0.8540, Loss: 2.8072\n",
      "Epoch   1 Batch  120/538 - Train Accuracy: 0.8660, Validation Accuracy: 0.8427, Loss: 2.8064\n",
      "Epoch   1 Batch  128/538 - Train Accuracy: 0.8631, Validation Accuracy: 0.8560, Loss: 2.7787\n",
      "Epoch   1 Batch  136/538 - Train Accuracy: 0.8540, Validation Accuracy: 0.8519, Loss: 2.7874\n",
      "Epoch   1 Batch  144/538 - Train Accuracy: 0.8523, Validation Accuracy: 0.8429, Loss: 2.7681\n",
      "Epoch   1 Batch  152/538 - Train Accuracy: 0.8785, Validation Accuracy: 0.8382, Loss: 2.7545\n",
      "Epoch   1 Batch  160/538 - Train Accuracy: 0.8642, Validation Accuracy: 0.8569, Loss: 2.7626\n",
      "Epoch   1 Batch  168/538 - Train Accuracy: 0.8340, Validation Accuracy: 0.8315, Loss: 2.8102\n",
      "Epoch   1 Batch  176/538 - Train Accuracy: 0.8229, Validation Accuracy: 0.8208, Loss: 2.7393\n",
      "Epoch   1 Batch  184/538 - Train Accuracy: 0.8895, Validation Accuracy: 0.8562, Loss: 2.7712\n",
      "Epoch   1 Batch  192/538 - Train Accuracy: 0.8903, Validation Accuracy: 0.8581, Loss: 2.6653\n",
      "Epoch   1 Batch  200/538 - Train Accuracy: 0.8938, Validation Accuracy: 0.8663, Loss: 2.7663\n",
      "Epoch   1 Batch  208/538 - Train Accuracy: 0.8926, Validation Accuracy: 0.8485, Loss: 2.6748\n",
      "Epoch   1 Batch  216/538 - Train Accuracy: 0.9176, Validation Accuracy: 0.8725, Loss: 2.7325\n",
      "Epoch   1 Batch  224/538 - Train Accuracy: 0.8713, Validation Accuracy: 0.8491, Loss: 2.7651\n",
      "Epoch   1 Batch  232/538 - Train Accuracy: 0.9006, Validation Accuracy: 0.8643, Loss: 2.7324\n",
      "Epoch   1 Batch  240/538 - Train Accuracy: 0.8656, Validation Accuracy: 0.8789, Loss: 2.7602\n",
      "Epoch   1 Batch  248/538 - Train Accuracy: 0.9100, Validation Accuracy: 0.8620, Loss: 2.7386\n",
      "Epoch   1 Batch  256/538 - Train Accuracy: 0.8646, Validation Accuracy: 0.8610, Loss: 2.7759\n",
      "Epoch   1 Batch  264/538 - Train Accuracy: 0.8586, Validation Accuracy: 0.8741, Loss: 2.6637\n",
      "Epoch   1 Batch  272/538 - Train Accuracy: 0.8891, Validation Accuracy: 0.8839, Loss: 2.7374\n",
      "Epoch   1 Batch  280/538 - Train Accuracy: 0.9046, Validation Accuracy: 0.8908, Loss: 2.6664\n",
      "Epoch   1 Batch  288/538 - Train Accuracy: 0.9016, Validation Accuracy: 0.8778, Loss: 2.7230\n",
      "Epoch   1 Batch  296/538 - Train Accuracy: 0.8901, Validation Accuracy: 0.8798, Loss: 2.6822\n",
      "Epoch   1 Batch  304/538 - Train Accuracy: 0.8951, Validation Accuracy: 0.8876, Loss: 2.7497\n",
      "Epoch   1 Batch  312/538 - Train Accuracy: 0.9000, Validation Accuracy: 0.9009, Loss: 2.7493\n",
      "Epoch   1 Batch  320/538 - Train Accuracy: 0.8968, Validation Accuracy: 0.8828, Loss: 2.7116\n",
      "Epoch   1 Batch  328/538 - Train Accuracy: 0.9196, Validation Accuracy: 0.8794, Loss: 2.6425\n",
      "Epoch   1 Batch  336/538 - Train Accuracy: 0.9042, Validation Accuracy: 0.8867, Loss: 2.6529\n",
      "Epoch   1 Batch  344/538 - Train Accuracy: 0.9229, Validation Accuracy: 0.9146, Loss: 2.6120\n",
      "Epoch   1 Batch  352/538 - Train Accuracy: 0.8865, Validation Accuracy: 0.8983, Loss: 2.6852\n",
      "Epoch   1 Batch  360/538 - Train Accuracy: 0.9143, Validation Accuracy: 0.9141, Loss: 2.6777\n",
      "Epoch   1 Batch  368/538 - Train Accuracy: 0.8988, Validation Accuracy: 0.8988, Loss: 2.6842\n",
      "Epoch   1 Batch  376/538 - Train Accuracy: 0.9053, Validation Accuracy: 0.9093, Loss: 2.7103\n",
      "Epoch   1 Batch  384/538 - Train Accuracy: 0.8958, Validation Accuracy: 0.9276, Loss: 2.7271\n",
      "Epoch   1 Batch  392/538 - Train Accuracy: 0.9007, Validation Accuracy: 0.9213, Loss: 2.6905\n",
      "Epoch   1 Batch  400/538 - Train Accuracy: 0.9085, Validation Accuracy: 0.8949, Loss: 2.7206\n",
      "Epoch   1 Batch  408/538 - Train Accuracy: 0.9078, Validation Accuracy: 0.9015, Loss: 2.6325\n",
      "Epoch   1 Batch  416/538 - Train Accuracy: 0.9107, Validation Accuracy: 0.9068, Loss: 2.6930\n",
      "Epoch   1 Batch  424/538 - Train Accuracy: 0.9187, Validation Accuracy: 0.9174, Loss: 2.6325\n",
      "Epoch   1 Batch  432/538 - Train Accuracy: 0.9245, Validation Accuracy: 0.9110, Loss: 2.6260\n",
      "Epoch   1 Batch  440/538 - Train Accuracy: 0.9104, Validation Accuracy: 0.9082, Loss: 2.6966\n",
      "Epoch   1 Batch  448/538 - Train Accuracy: 0.9202, Validation Accuracy: 0.9194, Loss: 2.6902\n",
      "Epoch   1 Batch  456/538 - Train Accuracy: 0.9229, Validation Accuracy: 0.9073, Loss: 2.6893\n",
      "Epoch   1 Batch  464/538 - Train Accuracy: 0.9260, Validation Accuracy: 0.9110, Loss: 2.6853\n",
      "Epoch   1 Batch  472/538 - Train Accuracy: 0.9518, Validation Accuracy: 0.9004, Loss: 2.7377\n",
      "Epoch   1 Batch  480/538 - Train Accuracy: 0.9280, Validation Accuracy: 0.9025, Loss: 2.6653\n",
      "Epoch   1 Batch  488/538 - Train Accuracy: 0.9434, Validation Accuracy: 0.9263, Loss: 2.6954\n",
      "Epoch   1 Batch  496/538 - Train Accuracy: 0.9279, Validation Accuracy: 0.9036, Loss: 2.7030\n",
      "Epoch   1 Batch  504/538 - Train Accuracy: 0.9414, Validation Accuracy: 0.9141, Loss: 2.6982\n",
      "Epoch   1 Batch  512/538 - Train Accuracy: 0.9373, Validation Accuracy: 0.9197, Loss: 2.6721\n",
      "Epoch   1 Batch  520/538 - Train Accuracy: 0.9213, Validation Accuracy: 0.9004, Loss: 2.6745\n",
      "Epoch   1 Batch  528/538 - Train Accuracy: 0.9149, Validation Accuracy: 0.9205, Loss: 2.6978\n",
      "Epoch   1 Batch  536/538 - Train Accuracy: 0.9163, Validation Accuracy: 0.9132, Loss: 2.7222\n",
      "Model Trained and Saved\n"
     ]
    }
   ],
   "source": [
    "\"\"\"\n",
    "DON'T MODIFY ANYTHING IN THIS CELL\n",
    "\"\"\"\n",
    "def get_accuracy(target, logits):\n",
    "    \"\"\"\n",
    "    Calculate accuracy\n",
    "    \"\"\"\n",
    "    max_seq = max(target.shape[1], logits.shape[1])\n",
    "    if max_seq - target.shape[1]:\n",
    "        target = np.pad(\n",
    "            target,\n",
    "            [(0,0),(0,max_seq - target.shape[1])],\n",
    "            'constant')\n",
    "    if max_seq - logits.shape[1]:\n",
    "        logits = np.pad(\n",
    "            logits,\n",
    "            [(0,0),(0,max_seq - logits.shape[1])],\n",
    "            'constant')\n",
    "\n",
    "    return np.mean(np.equal(target, logits))\n",
    "\n",
    "# Split data to training and validation sets\n",
    "train_source = source_int_text[batch_size:]\n",
    "train_target = target_int_text[batch_size:]\n",
    "valid_source = source_int_text[:batch_size]\n",
    "valid_target = target_int_text[:batch_size]\n",
    "(valid_sources_batch, valid_targets_batch, valid_sources_lengths, valid_targets_lengths ) = next(get_batches(valid_source,\n",
    "                                                                                                             valid_target,\n",
    "                                                                                                             batch_size,\n",
    "                                                                                                             source_vocab_to_int['<PAD>'],\n",
    "                                                                                                             target_vocab_to_int['<PAD>']))                                                                                                  \n",
    "with tf.Session(graph=train_graph) as sess:\n",
    "    sess.run(tf.global_variables_initializer())\n",
    "\n",
    "    for epoch_i in range(epochs):\n",
    "        for batch_i, (source_batch, target_batch, sources_lengths, targets_lengths) in enumerate(\n",
    "                get_batches(train_source, train_target, batch_size,\n",
    "                            source_vocab_to_int['<PAD>'],\n",
    "                            target_vocab_to_int['<PAD>'])):\n",
    "\n",
    "            _, loss = sess.run(\n",
    "                [train_op, cost],\n",
    "                {input_data: source_batch,\n",
    "                 targets: target_batch,\n",
    "                 lr: learning_rate,\n",
    "                 target_sequence_length: targets_lengths,\n",
    "                 source_sequence_length: sources_lengths,\n",
    "                 keep_prob: keep_probability})\n",
    "\n",
    "\n",
    "            if batch_i % display_step == 0 and batch_i > 0:\n",
    "\n",
    "\n",
    "                batch_train_logits = sess.run(\n",
    "                    inference_logits,\n",
    "                    {input_data: source_batch,\n",
    "                     source_sequence_length: sources_lengths,\n",
    "                     target_sequence_length: targets_lengths,\n",
    "                     keep_prob: 1.0})\n",
    "\n",
    "\n",
    "                batch_valid_logits = sess.run(\n",
    "                    inference_logits,\n",
    "                    {input_data: valid_sources_batch,\n",
    "                     source_sequence_length: valid_sources_lengths,\n",
    "                     target_sequence_length: valid_targets_lengths,\n",
    "                     keep_prob: 1.0})\n",
    "\n",
    "                train_acc = get_accuracy(target_batch, batch_train_logits)\n",
    "\n",
    "                valid_acc = get_accuracy(valid_targets_batch, batch_valid_logits)\n",
    "\n",
    "                print('Epoch {:>3} Batch {:>4}/{} - Train Accuracy: {:>6.4f}, Validation Accuracy: {:>6.4f}, Loss: {:>6.4f}'\n",
    "                      .format(epoch_i, batch_i, len(source_int_text) // batch_size, train_acc, valid_acc, loss))\n",
    "\n",
    "    # Save Model\n",
    "    saver = tf.train.Saver()\n",
    "    saver.save(sess, save_path)\n",
    "    print('Model Trained and Saved')"
   ]
  },
  {
   "cell_type": "markdown",
   "metadata": {},
   "source": [
    "### Save Parameters\n",
    "Save the `batch_size` and `save_path` parameters for inference."
   ]
  },
  {
   "cell_type": "code",
   "execution_count": 18,
   "metadata": {
    "collapsed": true
   },
   "outputs": [],
   "source": [
    "\"\"\"\n",
    "DON'T MODIFY ANYTHING IN THIS CELL\n",
    "\"\"\"\n",
    "# Save parameters for checkpoint\n",
    "helper.save_params(save_path)"
   ]
  },
  {
   "cell_type": "markdown",
   "metadata": {},
   "source": [
    "# Checkpoint"
   ]
  },
  {
   "cell_type": "code",
   "execution_count": 19,
   "metadata": {
    "collapsed": true
   },
   "outputs": [],
   "source": [
    "\"\"\"\n",
    "DON'T MODIFY ANYTHING IN THIS CELL\n",
    "\"\"\"\n",
    "import tensorflow as tf\n",
    "import numpy as np\n",
    "import helper\n",
    "import problem_unittests as tests\n",
    "\n",
    "_, (source_vocab_to_int, target_vocab_to_int), (source_int_to_vocab, target_int_to_vocab) = helper.load_preprocess()\n",
    "load_path = helper.load_params()"
   ]
  },
  {
   "cell_type": "markdown",
   "metadata": {},
   "source": [
    "## Sentence to Sequence\n",
    "To feed a sentence into the model for translation, you first need to preprocess it.  Implement the function `sentence_to_seq()` to preprocess new sentences.\n",
    "\n",
    "- Convert the sentence to lowercase\n",
    "- Convert words into ids using `vocab_to_int`\n",
    " - Convert words not in the vocabulary, to the `<UNK>` word id."
   ]
  },
  {
   "cell_type": "code",
   "execution_count": 20,
   "metadata": {},
   "outputs": [
    {
     "name": "stdout",
     "output_type": "stream",
     "text": [
      "Tests Passed\n"
     ]
    }
   ],
   "source": [
    "def sentence_to_seq(sentence, vocab_to_int):\n",
    "    \"\"\"\n",
    "    Convert a sentence to a sequence of ids\n",
    "    :param sentence: String\n",
    "    :param vocab_to_int: Dictionary to go from the words to an id\n",
    "    :return: List of word ids\n",
    "    \"\"\"\n",
    "    # TODO: Implement Function\n",
    "    unk = vocab_to_int['<UNK>']\n",
    "    sentence = sentence.lower()\n",
    "    return [vocab_to_int.get(w, unk) for w in sentence.split()]\n",
    "\n",
    "\n",
    "\"\"\"\n",
    "DON'T MODIFY ANYTHING IN THIS CELL THAT IS BELOW THIS LINE\n",
    "\"\"\"\n",
    "tests.test_sentence_to_seq(sentence_to_seq)"
   ]
  },
  {
   "cell_type": "markdown",
   "metadata": {},
   "source": [
    "## Translate\n",
    "This will translate `translate_sentence` from English to French."
   ]
  },
  {
   "cell_type": "code",
   "execution_count": 21,
   "metadata": {},
   "outputs": [
    {
     "name": "stdout",
     "output_type": "stream",
     "text": [
      "INFO:tensorflow:Restoring parameters from checkpoints/dev\n",
      "Input\n",
      "  Word Ids:      [60, 152, 34, 103, 7, 145, 124]\n",
      "  English Words: ['he', 'saw', 'a', 'old', 'yellow', 'truck', '.']\n",
      "\n",
      "Prediction\n",
      "  Word Ids:      [13, 131, 131, 96, 313, 61, 1]\n",
      "  French Words: il un un camion noir . <EOS>\n"
     ]
    }
   ],
   "source": [
    "translate_sentence = 'he saw a old yellow truck .'\n",
    "\n",
    "\n",
    "\"\"\"\n",
    "DON'T MODIFY ANYTHING IN THIS CELL\n",
    "\"\"\"\n",
    "translate_sentence = sentence_to_seq(translate_sentence, source_vocab_to_int)\n",
    "\n",
    "loaded_graph = tf.Graph()\n",
    "with tf.Session(graph=loaded_graph) as sess:\n",
    "    # Load saved model\n",
    "    loader = tf.train.import_meta_graph(load_path + '.meta')\n",
    "    loader.restore(sess, load_path)\n",
    "\n",
    "    input_data = loaded_graph.get_tensor_by_name('input:0')\n",
    "    logits = loaded_graph.get_tensor_by_name('predictions:0')\n",
    "    target_sequence_length = loaded_graph.get_tensor_by_name('target_sequence_length:0')\n",
    "    source_sequence_length = loaded_graph.get_tensor_by_name('source_sequence_length:0')\n",
    "    keep_prob = loaded_graph.get_tensor_by_name('keep_prob:0')\n",
    "\n",
    "    translate_logits = sess.run(logits, {input_data: [translate_sentence]*batch_size,\n",
    "                                         target_sequence_length: [len(translate_sentence)*2]*batch_size,\n",
    "                                         source_sequence_length: [len(translate_sentence)]*batch_size,\n",
    "                                         keep_prob: 1.0})[0]\n",
    "\n",
    "print('Input')\n",
    "print('  Word Ids:      {}'.format([i for i in translate_sentence]))\n",
    "print('  English Words: {}'.format([source_int_to_vocab[i] for i in translate_sentence]))\n",
    "\n",
    "print('\\nPrediction')\n",
    "print('  Word Ids:      {}'.format([i for i in translate_logits]))\n",
    "print('  French Words: {}'.format(\" \".join([target_int_to_vocab[i] for i in translate_logits])))\n"
   ]
  },
  {
   "cell_type": "markdown",
   "metadata": {},
   "source": [
    "## Imperfect Translation\n",
    "You might notice that some sentences translate better than others.  Since the dataset you're using only has a vocabulary of 227 English words of the thousands that you use, you're only going to see good results using these words.  For this project, you don't need a perfect translation. However, if you want to create a better translation model, you'll need better data.\n",
    "\n",
    "You can train on the [WMT10 French-English corpus](http://www.statmt.org/wmt10/training-giga-fren.tar).  This dataset has more vocabulary and richer in topics discussed.  However, this will take you days to train, so make sure you've a GPU and the neural network is performing well on dataset we provided.  Just make sure you play with the WMT10 corpus after you've submitted this project.\n",
    "## Submitting This Project\n",
    "When submitting this project, make sure to run all the cells before saving the notebook. Save the notebook file as \"dlnd_language_translation.ipynb\" and save it as a HTML file under \"File\" -> \"Download as\". Include the \"helper.py\" and \"problem_unittests.py\" files in your submission."
   ]
  }
 ],
 "metadata": {
  "anaconda-cloud": {},
  "kernelspec": {
   "display_name": "Python 3",
   "language": "python",
   "name": "python3"
  },
  "language_info": {
   "codemirror_mode": {
    "name": "ipython",
    "version": 3
   },
   "file_extension": ".py",
   "mimetype": "text/x-python",
   "name": "python",
   "nbconvert_exporter": "python",
   "pygments_lexer": "ipython3",
   "version": "3.6.1"
  }
 },
 "nbformat": 4,
 "nbformat_minor": 1
}
